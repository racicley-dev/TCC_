{
 "cells": [
  {
   "cell_type": "code",
   "execution_count": 16,
   "id": "38e888a7-b695-4c37-bfb2-9eb8f8f61269",
   "metadata": {},
   "outputs": [],
   "source": [
    "import pandas as pd\n",
    "import pickle"
   ]
  },
  {
   "cell_type": "code",
   "execution_count": 26,
   "id": "9d7db1f8-e9c5-48e9-becd-56dbd7c7b8a2",
   "metadata": {},
   "outputs": [],
   "source": [
    "df = pd.read_csv('csv_buscas.csv')"
   ]
  },
  {
   "cell_type": "code",
   "execution_count": 19,
   "id": "7fa4a48e-fe7d-4dae-ab2e-5a6c3d8acbe6",
   "metadata": {},
   "outputs": [],
   "source": [
    "#Início"
   ]
  },
  {
   "cell_type": "code",
   "execution_count": 28,
   "id": "08fad99b-0ad2-48e2-85c2-f3c05924e3ba",
   "metadata": {},
   "outputs": [],
   "source": [
    "from utils.embeddings_utils import (\n",
    "    get_embedding,\n",
    "    distances_from_embeddings,\n",
    "    tsne_components_from_embeddings,\n",
    "    chart_from_components,\n",
    "    indices_of_nearest_neighbors_from_distances,\n",
    ")"
   ]
  },
  {
   "cell_type": "code",
   "execution_count": 29,
   "id": "bda48810-cc4e-4551-8b23-80a9e22b469a",
   "metadata": {},
   "outputs": [],
   "source": [
    "EMBEDDING_MODEL = \"text-embedding-3-small\""
   ]
  },
  {
   "cell_type": "code",
   "execution_count": 30,
   "id": "c3f374b4-3a5a-4e9d-9c81-ccac8f272030",
   "metadata": {},
   "outputs": [],
   "source": [
    "# load data (full dataset available at http://groups.di.unipi.it/~gulli/AG_corpus_of_news_articles.html)\n",
    "dataset_path = \"csv_buscas.csv\"\n",
    "df = pd.read_csv(dataset_path)\n",
    "\n",
    "n_examples = 5\n",
    "#df.head(n_examples)"
   ]
  },
  {
   "cell_type": "code",
   "execution_count": 31,
   "id": "66b6b5fa-b093-4333-b6aa-09860e30ad26",
   "metadata": {},
   "outputs": [],
   "source": [
    "df_novo = df[['TITLE', 'ABSTRACT']]"
   ]
  },
  {
   "cell_type": "code",
   "execution_count": 34,
   "id": "320bdbb0-dafa-4a6c-858f-01a0a431814a",
   "metadata": {},
   "outputs": [],
   "source": [
    "# set path to embedding cache\n",
    "embedding_cache_path = \"csv_buscas.pkl\"\n",
    "\n",
    "# load the cache if it exists, and save a copy to disk\n",
    "try:\n",
    "    embedding_cache = pd.read_pickle(embedding_cache_path)\n",
    "except FileNotFoundError:\n",
    "    embedding_cache = {}\n",
    "with open(embedding_cache_path, \"wb\") as embedding_cache_file:\n",
    "    pickle.dump(embedding_cache, embedding_cache_file)\n",
    "\n",
    "def embedding_from_dataset(texto: str, modelo: str = EMBEDDING_MODEL) -> list:\n",
    "    \"\"\"Retorna o embedding de um texto, usando cache para evitar recomputação.\"\"\"\n",
    "    if (texto, modelo) not in embedding_cache:\n",
    "        embedding_cache[(texto, modelo)] = get_embedding(texto, modelo)\n",
    "        with open(embedding_cache_path, \"wb\") as cache_file:\n",
    "            pickle.dump(embedding_cache, cache_file)\n",
    "    return embedding_cache[(texto, modelo)]"
   ]
  },
  {
   "cell_type": "code",
   "execution_count": 36,
   "id": "ad0b0206-9e5b-46c5-b97c-ee9b30f11d16",
   "metadata": {},
   "outputs": [
    {
     "name": "stdout",
     "output_type": "stream",
     "text": [
      "\n",
      "Example string: Sweeteners are often added to liquid formulations of drugs but whether they merely make them better tasting or actually reduce the perception of bitterness remains unknown. In a group of children and adults, we determined whether adding sucrose to urea, caffeine, denatonium benzoate, propylthiouracil (PROP), and quinine would reduce their bitterness using a forced-choice method of paired comparisons. To better understand individual differences, adults also rated each solution using a more complex test (general Labeled Magnitude Scale [gLMS]) and were genotyped for the sweet taste receptor gene TAS1R3 and the bitter receptor TAS2R38. Sucrose suppressed the bitterness of each agent in children and adults. In adults, sucrose was effective in reducing the bitterness ratings from moderate to weak for all compounds tested, but those with the sensitive form of the sweet receptor reported greater reduction for caffeine and quinine. For PROP, sucrose was most effective for those who were genetically the most sensitive, although this did not attain statistical significance. Not only is the paired comparison method a valid tool to study how sucrose improves the taste of pediatric medicines among children but knowledge gleaned from basic research in bitter taste and how to alleviate it remains an important public health priority. \n"
     ]
    },
    {
     "ename": "UnicodeEncodeError",
     "evalue": "'ascii' codec can't encode character '\\xba' in position 29: ordinal not in range(128)",
     "output_type": "error",
     "traceback": [
      "\u001b[1;31m---------------------------------------------------------------------------\u001b[0m",
      "\u001b[1;31mUnicodeEncodeError\u001b[0m                        Traceback (most recent call last)",
      "Cell \u001b[1;32mIn[36], line 5\u001b[0m\n\u001b[0;32m      2\u001b[0m \u001b[38;5;28mprint\u001b[39m(\u001b[38;5;124mf\u001b[39m\u001b[38;5;124m\"\u001b[39m\u001b[38;5;130;01m\\n\u001b[39;00m\u001b[38;5;124mExample string: \u001b[39m\u001b[38;5;132;01m{\u001b[39;00mexample_string\u001b[38;5;132;01m}\u001b[39;00m\u001b[38;5;124m\"\u001b[39m)\n\u001b[0;32m      4\u001b[0m \u001b[38;5;66;03m# print the first 10 dimensions of the embedding\u001b[39;00m\n\u001b[1;32m----> 5\u001b[0m example_embedding \u001b[38;5;241m=\u001b[39m \u001b[43membedding_from_dataset\u001b[49m\u001b[43m(\u001b[49m\u001b[43mexample_string\u001b[49m\u001b[43m)\u001b[49m\n\u001b[0;32m      6\u001b[0m \u001b[38;5;28mprint\u001b[39m(example_embedding)\n",
      "Cell \u001b[1;32mIn[34], line 15\u001b[0m, in \u001b[0;36membedding_from_dataset\u001b[1;34m(texto, modelo)\u001b[0m\n\u001b[0;32m     13\u001b[0m \u001b[38;5;250m\u001b[39m\u001b[38;5;124;03m\"\"\"Retorna o embedding de um texto, usando cache para evitar recomputação.\"\"\"\u001b[39;00m\n\u001b[0;32m     14\u001b[0m \u001b[38;5;28;01mif\u001b[39;00m (texto, modelo) \u001b[38;5;129;01mnot\u001b[39;00m \u001b[38;5;129;01min\u001b[39;00m embedding_cache:\n\u001b[1;32m---> 15\u001b[0m     embedding_cache[(texto, modelo)] \u001b[38;5;241m=\u001b[39m \u001b[43mget_embedding\u001b[49m\u001b[43m(\u001b[49m\u001b[43mtexto\u001b[49m\u001b[43m,\u001b[49m\u001b[43m \u001b[49m\u001b[43mmodelo\u001b[49m\u001b[43m)\u001b[49m\n\u001b[0;32m     16\u001b[0m     \u001b[38;5;28;01mwith\u001b[39;00m \u001b[38;5;28mopen\u001b[39m(embedding_cache_path, \u001b[38;5;124m\"\u001b[39m\u001b[38;5;124mwb\u001b[39m\u001b[38;5;124m\"\u001b[39m) \u001b[38;5;28;01mas\u001b[39;00m cache_file:\n\u001b[0;32m     17\u001b[0m         pickle\u001b[38;5;241m.\u001b[39mdump(embedding_cache, cache_file)\n",
      "File \u001b[1;32mD:\\Documentos\\CEDERJ\\6º P\\TCC\\Trabalho\\repositorio\\TCC_\\utils\\embeddings_utils.py:22\u001b[0m, in \u001b[0;36mget_embedding\u001b[1;34m(text, model, **kwargs)\u001b[0m\n\u001b[0;32m     13\u001b[0m import pandas as pd\n\u001b[0;32m     15\u001b[0m client = OpenAI(max_retries=5)\n\u001b[0;32m     18\u001b[0m def get_embedding(text: str, model=\"text-embedding-3-small\", **kwargs) -> List[float]:\n\u001b[0;32m     19\u001b[0m     # replace newlines, which can negatively affect performance.\n\u001b[0;32m     20\u001b[0m     #text = text.replace(\"\\n\", \" \")\n\u001b[0;32m     21\u001b[0m \n\u001b[1;32m---> 22\u001b[0m     #print(text)\n\u001b[0;32m     23\u001b[0m     response = client.embeddings.create(input=[text], model=model, **kwargs)\n\u001b[0;32m     25\u001b[0m     return response.data[0].embedding\n",
      "File \u001b[1;32m~\\AppData\\Local\\Programs\\Python\\Python39\\lib\\site-packages\\openai\\resources\\embeddings.py:124\u001b[0m, in \u001b[0;36mEmbeddings.create\u001b[1;34m(self, input, model, dimensions, encoding_format, user, extra_headers, extra_query, extra_body, timeout)\u001b[0m\n\u001b[0;32m    118\u001b[0m         embedding\u001b[38;5;241m.\u001b[39membedding \u001b[38;5;241m=\u001b[39m np\u001b[38;5;241m.\u001b[39mfrombuffer(  \u001b[38;5;66;03m# type: ignore[no-untyped-call]\u001b[39;00m\n\u001b[0;32m    119\u001b[0m             base64\u001b[38;5;241m.\u001b[39mb64decode(data), dtype\u001b[38;5;241m=\u001b[39m\u001b[38;5;124m\"\u001b[39m\u001b[38;5;124mfloat32\u001b[39m\u001b[38;5;124m\"\u001b[39m\n\u001b[0;32m    120\u001b[0m         )\u001b[38;5;241m.\u001b[39mtolist()\n\u001b[0;32m    122\u001b[0m     \u001b[38;5;28;01mreturn\u001b[39;00m obj\n\u001b[1;32m--> 124\u001b[0m \u001b[38;5;28;01mreturn\u001b[39;00m \u001b[38;5;28;43mself\u001b[39;49m\u001b[38;5;241;43m.\u001b[39;49m\u001b[43m_post\u001b[49m\u001b[43m(\u001b[49m\n\u001b[0;32m    125\u001b[0m \u001b[43m    \u001b[49m\u001b[38;5;124;43m\"\u001b[39;49m\u001b[38;5;124;43m/embeddings\u001b[39;49m\u001b[38;5;124;43m\"\u001b[39;49m\u001b[43m,\u001b[49m\n\u001b[0;32m    126\u001b[0m \u001b[43m    \u001b[49m\u001b[43mbody\u001b[49m\u001b[38;5;241;43m=\u001b[39;49m\u001b[43mmaybe_transform\u001b[49m\u001b[43m(\u001b[49m\u001b[43mparams\u001b[49m\u001b[43m,\u001b[49m\u001b[43m \u001b[49m\u001b[43membedding_create_params\u001b[49m\u001b[38;5;241;43m.\u001b[39;49m\u001b[43mEmbeddingCreateParams\u001b[49m\u001b[43m)\u001b[49m\u001b[43m,\u001b[49m\n\u001b[0;32m    127\u001b[0m \u001b[43m    \u001b[49m\u001b[43moptions\u001b[49m\u001b[38;5;241;43m=\u001b[39;49m\u001b[43mmake_request_options\u001b[49m\u001b[43m(\u001b[49m\n\u001b[0;32m    128\u001b[0m \u001b[43m        \u001b[49m\u001b[43mextra_headers\u001b[49m\u001b[38;5;241;43m=\u001b[39;49m\u001b[43mextra_headers\u001b[49m\u001b[43m,\u001b[49m\n\u001b[0;32m    129\u001b[0m \u001b[43m        \u001b[49m\u001b[43mextra_query\u001b[49m\u001b[38;5;241;43m=\u001b[39;49m\u001b[43mextra_query\u001b[49m\u001b[43m,\u001b[49m\n\u001b[0;32m    130\u001b[0m \u001b[43m        \u001b[49m\u001b[43mextra_body\u001b[49m\u001b[38;5;241;43m=\u001b[39;49m\u001b[43mextra_body\u001b[49m\u001b[43m,\u001b[49m\n\u001b[0;32m    131\u001b[0m \u001b[43m        \u001b[49m\u001b[43mtimeout\u001b[49m\u001b[38;5;241;43m=\u001b[39;49m\u001b[43mtimeout\u001b[49m\u001b[43m,\u001b[49m\n\u001b[0;32m    132\u001b[0m \u001b[43m        \u001b[49m\u001b[43mpost_parser\u001b[49m\u001b[38;5;241;43m=\u001b[39;49m\u001b[43mparser\u001b[49m\u001b[43m,\u001b[49m\n\u001b[0;32m    133\u001b[0m \u001b[43m    \u001b[49m\u001b[43m)\u001b[49m\u001b[43m,\u001b[49m\n\u001b[0;32m    134\u001b[0m \u001b[43m    \u001b[49m\u001b[43mcast_to\u001b[49m\u001b[38;5;241;43m=\u001b[39;49m\u001b[43mCreateEmbeddingResponse\u001b[49m\u001b[43m,\u001b[49m\n\u001b[0;32m    135\u001b[0m \u001b[43m\u001b[49m\u001b[43m)\u001b[49m\n",
      "File \u001b[1;32m~\\AppData\\Local\\Programs\\Python\\Python39\\lib\\site-packages\\openai\\_base_client.py:1277\u001b[0m, in \u001b[0;36mSyncAPIClient.post\u001b[1;34m(self, path, cast_to, body, options, files, stream, stream_cls)\u001b[0m\n\u001b[0;32m   1263\u001b[0m \u001b[38;5;28;01mdef\u001b[39;00m \u001b[38;5;21mpost\u001b[39m(\n\u001b[0;32m   1264\u001b[0m     \u001b[38;5;28mself\u001b[39m,\n\u001b[0;32m   1265\u001b[0m     path: \u001b[38;5;28mstr\u001b[39m,\n\u001b[1;32m   (...)\u001b[0m\n\u001b[0;32m   1272\u001b[0m     stream_cls: \u001b[38;5;28mtype\u001b[39m[_StreamT] \u001b[38;5;241m|\u001b[39m \u001b[38;5;28;01mNone\u001b[39;00m \u001b[38;5;241m=\u001b[39m \u001b[38;5;28;01mNone\u001b[39;00m,\n\u001b[0;32m   1273\u001b[0m ) \u001b[38;5;241m-\u001b[39m\u001b[38;5;241m>\u001b[39m ResponseT \u001b[38;5;241m|\u001b[39m _StreamT:\n\u001b[0;32m   1274\u001b[0m     opts \u001b[38;5;241m=\u001b[39m FinalRequestOptions\u001b[38;5;241m.\u001b[39mconstruct(\n\u001b[0;32m   1275\u001b[0m         method\u001b[38;5;241m=\u001b[39m\u001b[38;5;124m\"\u001b[39m\u001b[38;5;124mpost\u001b[39m\u001b[38;5;124m\"\u001b[39m, url\u001b[38;5;241m=\u001b[39mpath, json_data\u001b[38;5;241m=\u001b[39mbody, files\u001b[38;5;241m=\u001b[39mto_httpx_files(files), \u001b[38;5;241m*\u001b[39m\u001b[38;5;241m*\u001b[39moptions\n\u001b[0;32m   1276\u001b[0m     )\n\u001b[1;32m-> 1277\u001b[0m     \u001b[38;5;28;01mreturn\u001b[39;00m cast(ResponseT, \u001b[38;5;28;43mself\u001b[39;49m\u001b[38;5;241;43m.\u001b[39;49m\u001b[43mrequest\u001b[49m\u001b[43m(\u001b[49m\u001b[43mcast_to\u001b[49m\u001b[43m,\u001b[49m\u001b[43m \u001b[49m\u001b[43mopts\u001b[49m\u001b[43m,\u001b[49m\u001b[43m \u001b[49m\u001b[43mstream\u001b[49m\u001b[38;5;241;43m=\u001b[39;49m\u001b[43mstream\u001b[49m\u001b[43m,\u001b[49m\u001b[43m \u001b[49m\u001b[43mstream_cls\u001b[49m\u001b[38;5;241;43m=\u001b[39;49m\u001b[43mstream_cls\u001b[49m\u001b[43m)\u001b[49m)\n",
      "File \u001b[1;32m~\\AppData\\Local\\Programs\\Python\\Python39\\lib\\site-packages\\openai\\_base_client.py:954\u001b[0m, in \u001b[0;36mSyncAPIClient.request\u001b[1;34m(self, cast_to, options, remaining_retries, stream, stream_cls)\u001b[0m\n\u001b[0;32m    951\u001b[0m \u001b[38;5;28;01melse\u001b[39;00m:\n\u001b[0;32m    952\u001b[0m     retries_taken \u001b[38;5;241m=\u001b[39m \u001b[38;5;241m0\u001b[39m\n\u001b[1;32m--> 954\u001b[0m \u001b[38;5;28;01mreturn\u001b[39;00m \u001b[38;5;28;43mself\u001b[39;49m\u001b[38;5;241;43m.\u001b[39;49m\u001b[43m_request\u001b[49m\u001b[43m(\u001b[49m\n\u001b[0;32m    955\u001b[0m \u001b[43m    \u001b[49m\u001b[43mcast_to\u001b[49m\u001b[38;5;241;43m=\u001b[39;49m\u001b[43mcast_to\u001b[49m\u001b[43m,\u001b[49m\n\u001b[0;32m    956\u001b[0m \u001b[43m    \u001b[49m\u001b[43moptions\u001b[49m\u001b[38;5;241;43m=\u001b[39;49m\u001b[43moptions\u001b[49m\u001b[43m,\u001b[49m\n\u001b[0;32m    957\u001b[0m \u001b[43m    \u001b[49m\u001b[43mstream\u001b[49m\u001b[38;5;241;43m=\u001b[39;49m\u001b[43mstream\u001b[49m\u001b[43m,\u001b[49m\n\u001b[0;32m    958\u001b[0m \u001b[43m    \u001b[49m\u001b[43mstream_cls\u001b[49m\u001b[38;5;241;43m=\u001b[39;49m\u001b[43mstream_cls\u001b[49m\u001b[43m,\u001b[49m\n\u001b[0;32m    959\u001b[0m \u001b[43m    \u001b[49m\u001b[43mretries_taken\u001b[49m\u001b[38;5;241;43m=\u001b[39;49m\u001b[43mretries_taken\u001b[49m\u001b[43m,\u001b[49m\n\u001b[0;32m    960\u001b[0m \u001b[43m\u001b[49m\u001b[43m)\u001b[49m\n",
      "File \u001b[1;32m~\\AppData\\Local\\Programs\\Python\\Python39\\lib\\site-packages\\openai\\_base_client.py:980\u001b[0m, in \u001b[0;36mSyncAPIClient._request\u001b[1;34m(self, cast_to, options, retries_taken, stream, stream_cls)\u001b[0m\n\u001b[0;32m    977\u001b[0m options \u001b[38;5;241m=\u001b[39m \u001b[38;5;28mself\u001b[39m\u001b[38;5;241m.\u001b[39m_prepare_options(options)\n\u001b[0;32m    979\u001b[0m remaining_retries \u001b[38;5;241m=\u001b[39m options\u001b[38;5;241m.\u001b[39mget_max_retries(\u001b[38;5;28mself\u001b[39m\u001b[38;5;241m.\u001b[39mmax_retries) \u001b[38;5;241m-\u001b[39m retries_taken\n\u001b[1;32m--> 980\u001b[0m request \u001b[38;5;241m=\u001b[39m \u001b[38;5;28;43mself\u001b[39;49m\u001b[38;5;241;43m.\u001b[39;49m\u001b[43m_build_request\u001b[49m\u001b[43m(\u001b[49m\u001b[43moptions\u001b[49m\u001b[43m,\u001b[49m\u001b[43m \u001b[49m\u001b[43mretries_taken\u001b[49m\u001b[38;5;241;43m=\u001b[39;49m\u001b[43mretries_taken\u001b[49m\u001b[43m)\u001b[49m\n\u001b[0;32m    981\u001b[0m \u001b[38;5;28mself\u001b[39m\u001b[38;5;241m.\u001b[39m_prepare_request(request)\n\u001b[0;32m    983\u001b[0m kwargs: HttpxSendArgs \u001b[38;5;241m=\u001b[39m {}\n",
      "File \u001b[1;32m~\\AppData\\Local\\Programs\\Python\\Python39\\lib\\site-packages\\openai\\_base_client.py:465\u001b[0m, in \u001b[0;36mBaseClient._build_request\u001b[1;34m(self, options, retries_taken)\u001b[0m\n\u001b[0;32m    462\u001b[0m     \u001b[38;5;28;01melse\u001b[39;00m:\n\u001b[0;32m    463\u001b[0m         \u001b[38;5;28;01mraise\u001b[39;00m \u001b[38;5;167;01mRuntimeError\u001b[39;00m(\u001b[38;5;124mf\u001b[39m\u001b[38;5;124m\"\u001b[39m\u001b[38;5;124mUnexpected JSON data type, \u001b[39m\u001b[38;5;132;01m{\u001b[39;00m\u001b[38;5;28mtype\u001b[39m(json_data)\u001b[38;5;132;01m}\u001b[39;00m\u001b[38;5;124m, cannot merge with `extra_body`\u001b[39m\u001b[38;5;124m\"\u001b[39m)\n\u001b[1;32m--> 465\u001b[0m headers \u001b[38;5;241m=\u001b[39m \u001b[38;5;28;43mself\u001b[39;49m\u001b[38;5;241;43m.\u001b[39;49m\u001b[43m_build_headers\u001b[49m\u001b[43m(\u001b[49m\u001b[43moptions\u001b[49m\u001b[43m,\u001b[49m\u001b[43m \u001b[49m\u001b[43mretries_taken\u001b[49m\u001b[38;5;241;43m=\u001b[39;49m\u001b[43mretries_taken\u001b[49m\u001b[43m)\u001b[49m\n\u001b[0;32m    466\u001b[0m params \u001b[38;5;241m=\u001b[39m _merge_mappings(\u001b[38;5;28mself\u001b[39m\u001b[38;5;241m.\u001b[39mdefault_query, options\u001b[38;5;241m.\u001b[39mparams)\n\u001b[0;32m    467\u001b[0m content_type \u001b[38;5;241m=\u001b[39m headers\u001b[38;5;241m.\u001b[39mget(\u001b[38;5;124m\"\u001b[39m\u001b[38;5;124mContent-Type\u001b[39m\u001b[38;5;124m\"\u001b[39m)\n",
      "File \u001b[1;32m~\\AppData\\Local\\Programs\\Python\\Python39\\lib\\site-packages\\openai\\_base_client.py:416\u001b[0m, in \u001b[0;36mBaseClient._build_headers\u001b[1;34m(self, options, retries_taken)\u001b[0m\n\u001b[0;32m    413\u001b[0m \u001b[38;5;28mself\u001b[39m\u001b[38;5;241m.\u001b[39m_validate_headers(headers_dict, custom_headers)\n\u001b[0;32m    415\u001b[0m \u001b[38;5;66;03m# headers are case-insensitive while dictionaries are not.\u001b[39;00m\n\u001b[1;32m--> 416\u001b[0m headers \u001b[38;5;241m=\u001b[39m \u001b[43mhttpx\u001b[49m\u001b[38;5;241;43m.\u001b[39;49m\u001b[43mHeaders\u001b[49m\u001b[43m(\u001b[49m\u001b[43mheaders_dict\u001b[49m\u001b[43m)\u001b[49m\n\u001b[0;32m    418\u001b[0m idempotency_header \u001b[38;5;241m=\u001b[39m \u001b[38;5;28mself\u001b[39m\u001b[38;5;241m.\u001b[39m_idempotency_header\n\u001b[0;32m    419\u001b[0m \u001b[38;5;28;01mif\u001b[39;00m idempotency_header \u001b[38;5;129;01mand\u001b[39;00m options\u001b[38;5;241m.\u001b[39mmethod\u001b[38;5;241m.\u001b[39mlower() \u001b[38;5;241m!=\u001b[39m \u001b[38;5;124m\"\u001b[39m\u001b[38;5;124mget\u001b[39m\u001b[38;5;124m\"\u001b[39m \u001b[38;5;129;01mand\u001b[39;00m idempotency_header \u001b[38;5;129;01mnot\u001b[39;00m \u001b[38;5;129;01min\u001b[39;00m headers:\n",
      "File \u001b[1;32m~\\AppData\\Local\\Programs\\Python\\Python39\\lib\\site-packages\\httpx\\_models.py:74\u001b[0m, in \u001b[0;36mHeaders.__init__\u001b[1;34m(self, headers, encoding)\u001b[0m\n\u001b[0;32m     72\u001b[0m     \u001b[38;5;28mself\u001b[39m\u001b[38;5;241m.\u001b[39m_list \u001b[38;5;241m=\u001b[39m \u001b[38;5;28mlist\u001b[39m(headers\u001b[38;5;241m.\u001b[39m_list)\n\u001b[0;32m     73\u001b[0m \u001b[38;5;28;01melif\u001b[39;00m \u001b[38;5;28misinstance\u001b[39m(headers, Mapping):\n\u001b[1;32m---> 74\u001b[0m     \u001b[38;5;28mself\u001b[39m\u001b[38;5;241m.\u001b[39m_list \u001b[38;5;241m=\u001b[39m [\n\u001b[0;32m     75\u001b[0m         (\n\u001b[0;32m     76\u001b[0m             normalize_header_key(k, lower\u001b[38;5;241m=\u001b[39m\u001b[38;5;28;01mFalse\u001b[39;00m, encoding\u001b[38;5;241m=\u001b[39mencoding),\n\u001b[0;32m     77\u001b[0m             normalize_header_key(k, lower\u001b[38;5;241m=\u001b[39m\u001b[38;5;28;01mTrue\u001b[39;00m, encoding\u001b[38;5;241m=\u001b[39mencoding),\n\u001b[0;32m     78\u001b[0m             normalize_header_value(v, encoding),\n\u001b[0;32m     79\u001b[0m         )\n\u001b[0;32m     80\u001b[0m         \u001b[38;5;28;01mfor\u001b[39;00m k, v \u001b[38;5;129;01min\u001b[39;00m headers\u001b[38;5;241m.\u001b[39mitems()\n\u001b[0;32m     81\u001b[0m     ]\n\u001b[0;32m     82\u001b[0m \u001b[38;5;28;01melse\u001b[39;00m:\n\u001b[0;32m     83\u001b[0m     \u001b[38;5;28mself\u001b[39m\u001b[38;5;241m.\u001b[39m_list \u001b[38;5;241m=\u001b[39m [\n\u001b[0;32m     84\u001b[0m         (\n\u001b[0;32m     85\u001b[0m             normalize_header_key(k, lower\u001b[38;5;241m=\u001b[39m\u001b[38;5;28;01mFalse\u001b[39;00m, encoding\u001b[38;5;241m=\u001b[39mencoding),\n\u001b[1;32m   (...)\u001b[0m\n\u001b[0;32m     89\u001b[0m         \u001b[38;5;28;01mfor\u001b[39;00m k, v \u001b[38;5;129;01min\u001b[39;00m headers\n\u001b[0;32m     90\u001b[0m     ]\n",
      "File \u001b[1;32m~\\AppData\\Local\\Programs\\Python\\Python39\\lib\\site-packages\\httpx\\_models.py:78\u001b[0m, in \u001b[0;36m<listcomp>\u001b[1;34m(.0)\u001b[0m\n\u001b[0;32m     72\u001b[0m     \u001b[38;5;28mself\u001b[39m\u001b[38;5;241m.\u001b[39m_list \u001b[38;5;241m=\u001b[39m \u001b[38;5;28mlist\u001b[39m(headers\u001b[38;5;241m.\u001b[39m_list)\n\u001b[0;32m     73\u001b[0m \u001b[38;5;28;01melif\u001b[39;00m \u001b[38;5;28misinstance\u001b[39m(headers, Mapping):\n\u001b[0;32m     74\u001b[0m     \u001b[38;5;28mself\u001b[39m\u001b[38;5;241m.\u001b[39m_list \u001b[38;5;241m=\u001b[39m [\n\u001b[0;32m     75\u001b[0m         (\n\u001b[0;32m     76\u001b[0m             normalize_header_key(k, lower\u001b[38;5;241m=\u001b[39m\u001b[38;5;28;01mFalse\u001b[39;00m, encoding\u001b[38;5;241m=\u001b[39mencoding),\n\u001b[0;32m     77\u001b[0m             normalize_header_key(k, lower\u001b[38;5;241m=\u001b[39m\u001b[38;5;28;01mTrue\u001b[39;00m, encoding\u001b[38;5;241m=\u001b[39mencoding),\n\u001b[1;32m---> 78\u001b[0m             \u001b[43mnormalize_header_value\u001b[49m\u001b[43m(\u001b[49m\u001b[43mv\u001b[49m\u001b[43m,\u001b[49m\u001b[43m \u001b[49m\u001b[43mencoding\u001b[49m\u001b[43m)\u001b[49m,\n\u001b[0;32m     79\u001b[0m         )\n\u001b[0;32m     80\u001b[0m         \u001b[38;5;28;01mfor\u001b[39;00m k, v \u001b[38;5;129;01min\u001b[39;00m headers\u001b[38;5;241m.\u001b[39mitems()\n\u001b[0;32m     81\u001b[0m     ]\n\u001b[0;32m     82\u001b[0m \u001b[38;5;28;01melse\u001b[39;00m:\n\u001b[0;32m     83\u001b[0m     \u001b[38;5;28mself\u001b[39m\u001b[38;5;241m.\u001b[39m_list \u001b[38;5;241m=\u001b[39m [\n\u001b[0;32m     84\u001b[0m         (\n\u001b[0;32m     85\u001b[0m             normalize_header_key(k, lower\u001b[38;5;241m=\u001b[39m\u001b[38;5;28;01mFalse\u001b[39;00m, encoding\u001b[38;5;241m=\u001b[39mencoding),\n\u001b[1;32m   (...)\u001b[0m\n\u001b[0;32m     89\u001b[0m         \u001b[38;5;28;01mfor\u001b[39;00m k, v \u001b[38;5;129;01min\u001b[39;00m headers\n\u001b[0;32m     90\u001b[0m     ]\n",
      "File \u001b[1;32m~\\AppData\\Local\\Programs\\Python\\Python39\\lib\\site-packages\\httpx\\_utils.py:53\u001b[0m, in \u001b[0;36mnormalize_header_value\u001b[1;34m(value, encoding)\u001b[0m\n\u001b[0;32m     51\u001b[0m \u001b[38;5;28;01mif\u001b[39;00m \u001b[38;5;28misinstance\u001b[39m(value, \u001b[38;5;28mbytes\u001b[39m):\n\u001b[0;32m     52\u001b[0m     \u001b[38;5;28;01mreturn\u001b[39;00m value\n\u001b[1;32m---> 53\u001b[0m \u001b[38;5;28;01mreturn\u001b[39;00m \u001b[43mvalue\u001b[49m\u001b[38;5;241;43m.\u001b[39;49m\u001b[43mencode\u001b[49m\u001b[43m(\u001b[49m\u001b[43mencoding\u001b[49m\u001b[43m \u001b[49m\u001b[38;5;129;43;01mor\u001b[39;49;00m\u001b[43m \u001b[49m\u001b[38;5;124;43m\"\u001b[39;49m\u001b[38;5;124;43mascii\u001b[39;49m\u001b[38;5;124;43m\"\u001b[39;49m\u001b[43m)\u001b[49m\n",
      "\u001b[1;31mUnicodeEncodeError\u001b[0m: 'ascii' codec can't encode character '\\xba' in position 29: ordinal not in range(128)"
     ]
    }
   ],
   "source": [
    "example_string = df[\"ABSTRACT\"].values[0]\n",
    "print(f\"\\nExample string: {example_string}\")\n",
    "\n",
    "# print the first 10 dimensions of the embedding\n",
    "example_embedding = embedding_from_dataset(example_string)\n",
    "print(example_embedding)"
   ]
  },
  {
   "cell_type": "code",
   "execution_count": null,
   "id": "761823c9-2a0e-4fcf-b5e2-d6788e7855fd",
   "metadata": {},
   "outputs": [],
   "source": [
    "def print_recommendations_from_strings(\n",
    "    strings: list[str],\n",
    "    index_of_source_string: int,\n",
    "    k_nearest_neighbors: int = 1,\n",
    "    model=EMBEDDING_MODEL,\n",
    ") -> list[int]:\n",
    "    \"\"\"Print out the k nearest neighbors of a given string.\"\"\"\n",
    "    # get embeddings for all strings\n",
    "    embeddings = [embedding_from_dataset(string, modelo=model) for string in strings]\n",
    "\n",
    "    # get the embedding of the source string\n",
    "    query_embedding = embeddings[index_of_source_string]\n",
    "\n",
    "    # get distances between the source embedding and other embeddings (function from utils.embeddings_utils.py)\n",
    "    distances = distances_from_embeddings(query_embedding, embeddings, distance_metric=\"cosine\")\n",
    "    \n",
    "    # get indices of nearest neighbors (function from utils.utils.embeddings_utils.py)\n",
    "    indices_of_nearest_neighbors = indices_of_nearest_neighbors_from_distances(distances)\n",
    "\n",
    "    # print out source string\n",
    "    query_string = strings[index_of_source_string]\n",
    "    print(f\"Source string: {query_string}\")\n",
    "    # print out its k nearest neighbors\n",
    "    k_counter = 0\n",
    "    for i in indices_of_nearest_neighbors:\n",
    "        # skip any strings that are identical matches to the starting string\n",
    "        if query_string == strings[i]:\n",
    "            continue\n",
    "        # stop after printing out k articles\n",
    "        if k_counter >= k_nearest_neighbors:\n",
    "            break\n",
    "        k_counter += 1\n",
    "\n",
    "        # print out the similar strings and their distances\n",
    "        print(\n",
    "            f\"\"\"\n",
    "        --- Recommendation #{k_counter} (nearest neighbor {k_counter} of {k_nearest_neighbors}) ---\n",
    "        String: {strings[i]}\n",
    "        Distance: {distances[i]:0.3f}\"\"\"\n",
    "        )\n",
    "\n",
    "    return indices_of_nearest_neighbors"
   ]
  },
  {
   "cell_type": "code",
   "execution_count": 23,
   "id": "395d1fdc-86d7-472b-ad09-66e11f04bb97",
   "metadata": {},
   "outputs": [
    {
     "name": "stdout",
     "output_type": "stream",
     "text": [
      "Source string: In an effort to expedite the publication of articles, AJHP is posting manuscripts online as soon as possible after acceptance. Accepted manuscripts have been peer-reviewed and copyedited, but are posted online before technical formatting and author proofing. These manuscripts are not the final version of record and will be replaced with the final article (formatted per AJHP style and proofed by the authors) at a later time. Amiodarone hydrochloride is an antiarrhythmic drug used to treat supraventricular tachycardia. However, there are currently no commercial pediatric forms available to treat young patients. Various oral formulations were previously reported in the literature, but the concentration was lower than the doses prescribed in clinical practice (a loading dose of 500 mg/m2/day for 7-10 days followed by a maintenance dose of 250 mg/m2/day). The objective of this study was to develop an oral liquid formulation of amiodarone hydrochloride at an optimal concentration for use in children and to evaluate its physicochemical and microbiological stability. No commercial suspension vehicle was used, allowing the choice of excipients. Compounding was performed using hydroxypropylmethylcellulose as thickener, potassium sorbate preservative, citric acid/sodium citrate buffer, sodium saccharin as a , and a strawberry flavoring agent. A concentration of 40 mg/mL was selected based on a 5-year compilation of prescribed doses. Analyses performed were the following: visual and microscopic inspection, testing for antimicrobial preservation, osmolality and pH measurements, quantification of amiodarone hydrochloride by a stability-indicating liquid chromatography method, and a microbiological count. At least 95% of the initial amiodarone hydrochloride remained stable during the 60-day study period under refrigeration. All other tested parameters remained stable at 5 °C. A targeted log reduction of the microorganism inoculum by day 14 and no microbial growth by day 28 were demonstrated in the test for antimicrobial preservation. The stability of 40 mg/mL amiodarone hydrochloride oral suspension was maintained under refrigeration for 60 days before opening bottles and for 1 month after opening bottles. \n",
      "\n",
      "        --- Recommendation #1 (nearest neighbor 1 of 5) ---\n",
      "        String: Amiodarone is commercially available as both a tablet and an injectable formulation. It is widely dispensed as an extemporaneously compounded suspension for pediatric and geriatric patients. Extensive stability data at numerous temperatures and a calculated shelf life based on kinetics for such a formulation have not been reported. Refrigeration and room temperature data for finite times have been reported in the literature. In this study, a stable extemporaneous formulation of amiodarone hydrochloride was formulated using Paceron tablets. The formulation consisted of 0.75% carboxymethylcellulose and 0.75% Veegum as suspending agents; 25% sucrose, provided as simple syrup; and aqueous strawberry concentrate as flavor. A total of 2.5L of the formulation was compounded and stored in quanitites of 150 mL in 8-oz glass containers. The initial drug content was determined by reverse-phase high-performance liquid chromatography, with a method that was developed in our laboratory. The stability study was carried out by storing three containers at five different temperatures, namely 4, 30, 40, 50, and 60 deg C. The suspension was analyzed at the end of 2, 6, 12, 24, and 48 hours at 7 days, and, therafter, at the end of every week for 13 weeks. The percentage of drug remaining was plotted against time for each temperature. The slope of the regression line was obtained for each temperature and the zero-order degradation rate constant obtained. The logarithm of the zero-order degradation rate constants was plotted against the inverse of the temperature in degrees Kelvin to obtain the Arrhenius plot. From the regression line for the Arrhenius plot, the zero-order degradation constant at 25 deg C was calculated to be 0.0517 day -1. The shelf life for the formulation at 25 deg C was calculated to be 193.4 days; the shelf life under refrigeration (4 deg C) was found to be 677.3 days. The degradation products were characterized using high-performance liquid chromatographic-mass spectrometry. Data obtained from the analysis suggested that amiodarone cleaved at its ketone and ether linkages to yield corresponding degradation products. \n",
      "        Distance: 0.172\n",
      "\n",
      "        --- Recommendation #2 (nearest neighbor 2 of 5) ---\n",
      "        String: Amiodarone is commercially available as both a tablet and an injectable formulation. It is widely dispensed as an extemporaneously compounded suspension for pediatric and geriatric patients. Extensive stability data at numerous temperatures and a calculated shelf life based on kinetics for such a formulation have not been reported. Refrigeration and room temperature data for finite times have been reported in the literature. In this study, a stable extemporaneous formulation of amiodarone hydrochloride was formulated using Paceron tablets. The formulation consisted of 0.75% carboxymethylcellulose and 0.75% Veegum as suspending agents; 25% sucrose, provided as simple syrup; and aqueous strawberry concentrate as flavor. A total of 2.5L of the formulation was compounded and stored in quanitites of 150 mL in 8-oz glass containers. The initial drug content was determined by reverse-phase high-performance liquid chromatography, with a method that was developed in our laboratory. The stability study was carried out by storing three containers at five different temperatures, namely 4, 30, 40, 50, and 60 deg C. The suspension was analyzed at the end of 2, 6, 12, 24, and 48 hours at 7 days, and, therafter, at the end of every week for 13 weeks. The percentage of drug remaining was plotted against time for each temperature. The slope of the regression line was obtained for each temperature and the zero-order degradation rate constant obtained. The logarithm of the zero-order degradation rate constants was plotted against the inverse of the temperature in degrees Kelvin to obtain the Arrhenius plot. From the regression line for the Arrhenius plot, the zero-order degradation constant at 25 deg C was calculated to be 0.0517 day -1. The shelf life for the formulation at 25 deg C was calculated to be 193.4 days; the shelf life under refrigeration (4 deg C) was found to be 677.3 days. The degradation products were characterized using high-performance liquid chromatographic-mass spectrometry. Data obtained from the analysis suggested that amiodarone cleaved at its ketone and ether linkages to yield corresponding degradation products. \n",
      "        Distance: 0.172\n",
      "\n",
      "        --- Recommendation #3 (nearest neighbor 3 of 5) ---\n",
      "        String: The stability of theophylline (T) and propranolol hydrochloride (P) in extemporaneously compounded oral suspensions (25 mg/mL or 50 mg/mL for T and 2 mg/mL or 5 mg/mL for P) were studied. Suspension with P and T were prepared with bulk substance or tablets using three different suspending vehicles: Ora-Sweet (M1), modified Ora-Sweet (M2) and simple syrup with glycerol and sorbitol (M3). Each suspension was stored for 35 days in a dark place at 25 degrees C and 4 degrees C. The results demonstrated that the prepared suspensions with P either from tablets or from a substance were stable in all three studied vehicles (more than 95% of initial concentration remaining). However, it is recommended that storage at 4 degrees C of suspensions prepared with M2 should be avoided because of crystallization of the buffer substances. Extemporaneous suspensions with T in an appropriate pediatric concentrations of the drug were not obtained because the problem of fast crystallization of T was not eliminated. \n",
      "        Distance: 0.381\n",
      "\n",
      "        --- Recommendation #4 (nearest neighbor 4 of 5) ---\n",
      "        String: The stability of theophylline (T) and propranolol hydrochloride (P) in extemporaneously compounded oral suspensions (25 mg/mL or 50 mg/mL for T and 2 mg/mL or 5 mg/mL for P) were studied. Suspension with P and T were prepared with bulk substance or tablets using three different suspending vehicles: Ora-Sweet (M1), modified Ora-Sweet (M2) and simple syrup with glycerol and sorbitol (M3). Each suspension was stored for 35 days in a dark place at 25 degrees C and 4 degrees C. The results demonstrated that the prepared suspensions with P either from tablets or from a substance were stable in all three studied vehicles (more than 95% of initial concentration remaining). However, it is recommended that storage at 4 degrees C of suspensions prepared with M2 should be avoided because of crystallization of the buffer substances. Extemporaneous suspensions with T in an appropriate pediatric concentrations of the drug were not obtained because the problem of fast crystallization of T was not eliminated. \n",
      "        Distance: 0.381\n",
      "\n",
      "        --- Recommendation #5 (nearest neighbor 5 of 5) ---\n",
      "        String: Indomethacin is used for off-label prescription for the treatment of patent ductus arteriosus in premature infants. In Argentina, indomethacin is only available as a suppository, dermic cream, injectable ampules, and delayed-release capsules. Aiming to improve pediatric treatment and minimize the risk associated with improper dosage, this work focused on the development of an extemporaneous 0.2% indomethacin oral suspension, starting from the commercially injectable formulation. Two 150-mL batches of suspension were prepared using Generally Recognized as Safe excipients. The suspensions were stored for 17 days at room temperature. Physical stability, morphological analysis of suspended particles, sedimentation volume, easy re-suspension, and dynamic viscosity were studied. The indomethacin content, dissolution studies, and microbiological attributes of nonsterile pharmaceutical products were also evaluated. After 17 days of storage, the suspension was easily re-dispersed after 15 seconds of the hand-shaking technique. There were no detectable changes in color, odor, and/or flavor. The suspension showed minimal changes in pH, viscosity, shape, and mean size of the suspended indomethacin particles. The content uniformity and drug dissolution remained within the acceptable range during storage. This oral liquid suspension is an interesting alternative to be prepared by hospital pharmacy services for optimizing the pediatric treatment of patent ductus arteriosus. \n",
      "        Distance: 0.394\n"
     ]
    }
   ],
   "source": [
    "article_abstracts = df[\"ABSTRACT\"].tolist()\n",
    "\n",
    "pubmed_articles = print_recommendations_from_strings(\n",
    "    strings=article_abstracts,  # let's base similarity off of the article description\n",
    "    index_of_source_string=0,  # articles similar to the first one about Tony Blair\n",
    "    k_nearest_neighbors=5,  # 5 most similar articles\n",
    ")"
   ]
  },
  {
   "cell_type": "code",
   "execution_count": 42,
   "id": "71dc8c0a-f110-43bd-95b3-49321b13d9f4",
   "metadata": {},
   "outputs": [
    {
     "data": {
      "text/html": [
       "<div>\n",
       "<style scoped>\n",
       "    .dataframe tbody tr th:only-of-type {\n",
       "        vertical-align: middle;\n",
       "    }\n",
       "\n",
       "    .dataframe tbody tr th {\n",
       "        vertical-align: top;\n",
       "    }\n",
       "\n",
       "    .dataframe thead th {\n",
       "        text-align: right;\n",
       "    }\n",
       "</style>\n",
       "<table border=\"1\" class=\"dataframe\">\n",
       "  <thead>\n",
       "    <tr style=\"text-align: right;\">\n",
       "      <th></th>\n",
       "      <th>PMID</th>\n",
       "      <th>TITLE</th>\n",
       "      <th>ABSTRACT</th>\n",
       "    </tr>\n",
       "  </thead>\n",
       "  <tbody>\n",
       "    <tr>\n",
       "      <th>0</th>\n",
       "      <td>39412306</td>\n",
       "      <td>Physicochemical and microbiological stability ...</td>\n",
       "      <td>In an effort to expedite the publication of ar...</td>\n",
       "    </tr>\n",
       "    <tr>\n",
       "      <th>1</th>\n",
       "      <td>39273489</td>\n",
       "      <td>Inhibitory Effects of Surface Pre-Reacted Glas...</td>\n",
       "      <td>The surface pre-reacted glass ionomer (S-PRG) ...</td>\n",
       "    </tr>\n",
       "    <tr>\n",
       "      <th>2</th>\n",
       "      <td>39245358</td>\n",
       "      <td>Pediatric oral extemporaneous preparations and...</td>\n",
       "      <td>This publication is the first to report curren...</td>\n",
       "    </tr>\n",
       "    <tr>\n",
       "      <th>3</th>\n",
       "      <td>38457115</td>\n",
       "      <td>Successful Treatment of Recurrent Clostridioid...</td>\n",
       "      <td>Fecal microbiota transplants can be administer...</td>\n",
       "    </tr>\n",
       "    <tr>\n",
       "      <th>4</th>\n",
       "      <td>38257156</td>\n",
       "      <td>Super Bolus-A Remedy for a High Glycemic Index...</td>\n",
       "      <td>This study aimed to compare whether a super bo...</td>\n",
       "    </tr>\n",
       "  </tbody>\n",
       "</table>\n",
       "</div>"
      ],
      "text/plain": [
       "       PMID                                              TITLE  \\\n",
       "0  39412306  Physicochemical and microbiological stability ...   \n",
       "1  39273489  Inhibitory Effects of Surface Pre-Reacted Glas...   \n",
       "2  39245358  Pediatric oral extemporaneous preparations and...   \n",
       "3  38457115  Successful Treatment of Recurrent Clostridioid...   \n",
       "4  38257156  Super Bolus-A Remedy for a High Glycemic Index...   \n",
       "\n",
       "                                            ABSTRACT  \n",
       "0  In an effort to expedite the publication of ar...  \n",
       "1  The surface pre-reacted glass ionomer (S-PRG) ...  \n",
       "2  This publication is the first to report curren...  \n",
       "3  Fecal microbiota transplants can be administer...  \n",
       "4  This study aimed to compare whether a super bo...  "
      ]
     },
     "execution_count": 42,
     "metadata": {},
     "output_type": "execute_result"
    }
   ],
   "source": [
    "df"
   ]
  }
 ],
 "metadata": {
  "kernelspec": {
   "display_name": "Python 3 (ipykernel)",
   "language": "python",
   "name": "python3"
  },
  "language_info": {
   "codemirror_mode": {
    "name": "ipython",
    "version": 3
   },
   "file_extension": ".py",
   "mimetype": "text/x-python",
   "name": "python",
   "nbconvert_exporter": "python",
   "pygments_lexer": "ipython3",
   "version": "3.9.5"
  }
 },
 "nbformat": 4,
 "nbformat_minor": 5
}
